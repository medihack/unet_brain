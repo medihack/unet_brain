{
 "cells": [
  {
   "cell_type": "code",
   "execution_count": 1,
   "metadata": {
    "collapsed": true
   },
   "outputs": [],
   "source": [
    "import nibabel as nib"
   ]
  },
  {
   "cell_type": "code",
   "execution_count": 7,
   "metadata": {},
   "outputs": [],
   "source": [
    "dat = nib.load('/Users/hagen/Code/Daten/Oasis/disc01/OAS1_0001_MR1/PROCESSED/MPRAGE/T88_111/OAS1_0001_MR1_mpr_n4_anon_111_t88_gfc.img')\n",
    "seg = nib.load('/Users/hagen/Code/Daten/Oasis/disc01/OAS1_0001_MR1/FSL_SEG/OAS1_0001_MR1_mpr_n4_anon_111_t88_masked_gfc_fseg.img')"
   ]
  },
  {
   "cell_type": "code",
   "execution_count": 8,
   "metadata": {},
   "outputs": [],
   "source": [
    "nib.save(dat, '/Users/hagen/Code/Python/nn/unet_brain/data/vol_oas0.nii')\n",
    "nib.save(seg, '/Users/hagen/Code/Python/nn/unet_brain/data/seg_oas0.nii')"
   ]
  },
  {
   "cell_type": "code",
   "execution_count": 9,
   "metadata": {
    "collapsed": true
   },
   "outputs": [],
   "source": [
    "dat = nib.load('/Users/hagen/Code/Daten/Oasis/disc01/OAS1_0002_MR1/PROCESSED/MPRAGE/T88_111/OAS1_0002_MR1_mpr_n4_anon_111_t88_gfc.img')\n",
    "seg = nib.load('/Users/hagen/Code/Daten/Oasis/disc01/OAS1_0002_MR1/FSL_SEG/OAS1_0002_MR1_mpr_n4_anon_111_t88_masked_gfc_fseg.img')"
   ]
  },
  {
   "cell_type": "code",
   "execution_count": 10,
   "metadata": {
    "collapsed": true
   },
   "outputs": [],
   "source": [
    "nib.save(dat, '/Users/hagen/Code/Python/nn/unet_brain/data/vol_oas1.nii')\n",
    "nib.save(seg, '/Users/hagen/Code/Python/nn/unet_brain/data/seg_oas1.nii')"
   ]
  },
  {
   "cell_type": "code",
   "execution_count": 11,
   "metadata": {
    "collapsed": true
   },
   "outputs": [],
   "source": [
    "dat = nib.load('/Users/hagen/Code/Daten/Oasis/disc01/OAS1_0003_MR1/PROCESSED/MPRAGE/T88_111/OAS1_0003_MR1_mpr_n4_anon_111_t88_gfc.img')\n",
    "seg = nib.load('/Users/hagen/Code/Daten/Oasis/disc01/OAS1_0003_MR1/FSL_SEG/OAS1_0003_MR1_mpr_n4_anon_111_t88_masked_gfc_fseg.img')"
   ]
  },
  {
   "cell_type": "code",
   "execution_count": 12,
   "metadata": {
    "collapsed": true
   },
   "outputs": [],
   "source": [
    "nib.save(dat, '/Users/hagen/Code/Python/nn/unet_brain/data/vol_oas2.nii')\n",
    "nib.save(seg, '/Users/hagen/Code/Python/nn/unet_brain/data/seg_oas2.nii')"
   ]
  },
  {
   "cell_type": "code",
   "execution_count": null,
   "metadata": {
    "collapsed": true
   },
   "outputs": [],
   "source": []
  }
 ],
 "metadata": {
  "kernelspec": {
   "display_name": "Python 2",
   "language": "python",
   "name": "python2"
  },
  "language_info": {
   "codemirror_mode": {
    "name": "ipython",
    "version": 2
   },
   "file_extension": ".py",
   "mimetype": "text/x-python",
   "name": "python",
   "nbconvert_exporter": "python",
   "pygments_lexer": "ipython2",
   "version": "2.7.13"
  }
 },
 "nbformat": 4,
 "nbformat_minor": 2
}
