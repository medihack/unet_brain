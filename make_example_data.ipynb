{
 "cells": [
  {
   "cell_type": "code",
   "execution_count": 41,
   "metadata": {
    "collapsed": true
   },
   "outputs": [],
   "source": [
    "import nibabel as nib\n",
    "import os\n",
    "\n",
    "def mask_left_lentiformis(filepath):\n",
    "    dirpath = os.path.dirname(os.path.abspath(filepath))\n",
    "    filename = os.path.basename(filepath)\n",
    "    savename = filename.split('.')[0] + '_masked.nii.gz'\n",
    "    savepath = os.path.join(dirpath, savename)\n",
    "    img = nib.load(filepath)\n",
    "    img_data = img.get_data()\n",
    "    img_data[(img_data != 12) & (img_data != 13)] = 0\n",
    "    img_data[img_data > 0] = 1\n",
    "    nib.save(img, savepath)\n",
    "    \n",
    "mask_left_lentiformis('./temp/100307/seg.nii.gz')\n",
    "mask_left_lentiformis('./temp/103414/seg.nii.gz')\n",
    "mask_left_lentiformis('./temp/105115/seg.nii.gz')"
   ]
  }
 ],
 "metadata": {
  "kernelspec": {
   "display_name": "Python 3",
   "language": "python",
   "name": "python3"
  },
  "language_info": {
   "codemirror_mode": {
    "name": "ipython",
    "version": 3
   },
   "file_extension": ".py",
   "mimetype": "text/x-python",
   "name": "python",
   "nbconvert_exporter": "python",
   "pygments_lexer": "ipython3",
   "version": "3.5.3"
  }
 },
 "nbformat": 4,
 "nbformat_minor": 2
}
